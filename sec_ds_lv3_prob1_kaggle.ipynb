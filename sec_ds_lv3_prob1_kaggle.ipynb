{
 "cells": [
  {
   "cell_type": "markdown",
   "id": "765c0422",
   "metadata": {},
   "source": [
    "# 문제 6\n",
    "\n",
    "[Kaggle 형] train_prob.csv로 failure 예측하는 모델을 만들고, \n",
    "\n",
    "test_prob.csv에 대한 failure가 1일 확률 예측하여 다음과 같은 형식의 answer6.csv를 만들어라. \n",
    "\n",
    "측정 지표는 AUC(area under of ROC curve)이다. id 는 테스트 케이스의 id 이고, failure에는 failure가 1이 될 확률이다.\n",
    "\n",
    "id,failure\n",
    "\n",
    "16115, 0.1\n",
    "\n",
    "16116, 0.2\n",
    "\n",
    "\n",
    "**강사: 멀티캠퍼스 강선구(sunku0316.kang@multicampus.com, sun9sun9@gmail.com)**"
   ]
  },
  {
   "cell_type": "markdown",
   "id": "3d539c7c",
   "metadata": {},
   "source": [
    "# Kaggle형 풀이 단계\n",
    "\n",
    "Step 0: Kaggle용 데이터셋을 만든다.\n",
    "\n",
    "Step 1: 검증 방법을 정하고, 검증 루틴을 만듭니다.\n",
    "\n",
    "Step 2: Baseline 모델을 만듭니다\n",
    "\n",
    "Step 3: 모델 선택 루틴을 만듭니다.\n",
    "\n",
    "|DateHour|\tTotalHour|\n",
    "|----|----|\n",
    "|2021-08-14 00:00:00|\t102.607580|\n",
    "|2021-08-14 01:00:00|\t94.078890|\n",
    "....\t\n",
    "\n",
    "Step 4: 모델 개선 작업을 합니다."
   ]
  },
  {
   "cell_type": "code",
   "execution_count": 1,
   "id": "692e2193",
   "metadata": {},
   "outputs": [
    {
     "name": "stdout",
     "output_type": "stream",
     "text": [
      "3.7.4 (tags/v3.7.4:e09359112e, Jul  8 2019, 20:34:20) [MSC v.1916 64 bit (AMD64)]\n",
      "pandas 0.25.1\n",
      "numpy 1.18.5\n",
      "sklearn 0.21.3\n",
      "scipy 1.5.2\n",
      "mlxtend 0.15.0.0\n",
      "statsmodels 0.11.1\n",
      "xgboost 0.80\n"
     ]
    }
   ],
   "source": [
    "# 실행 환경 확인\n",
    "\n",
    "import pandas as pd\n",
    "import numpy as np\n",
    "import sklearn\n",
    "import scipy\n",
    "import statsmodels\n",
    "import mlxtend\n",
    "import sys\n",
    "import xgboost as xgb\n",
    "\n",
    "print(sys.version)\n",
    "for i in [pd, np, sklearn, scipy, mlxtend, statsmodels, xgb]:\n",
    "    print(i.__name__, i.__version__)"
   ]
  },
  {
   "cell_type": "code",
   "execution_count": 2,
   "id": "4f88ac43",
   "metadata": {},
   "outputs": [],
   "source": [
    "df_train = pd.read_csv('train_prob.csv', index_col='id')\n",
    "df_test = pd.read_csv('test_prob.csv', index_col='id')"
   ]
  },
  {
   "cell_type": "code",
   "execution_count": 3,
   "id": "9f1ed852",
   "metadata": {},
   "outputs": [],
   "source": [
    "df_train['na_1'] = df_train['measurement_3'].isna()\n",
    "df_train['na_2'] = df_train['measurement_5'].isna()\n",
    "\n",
    "df_test['na_1'] = df_test['measurement_3'].isna()\n",
    "df_test['na_2'] = df_test['measurement_5'].isna()"
   ]
  },
  {
   "cell_type": "code",
   "execution_count": 5,
   "id": "07fa9e15",
   "metadata": {},
   "outputs": [
    {
     "data": {
      "text/plain": [
       "C    5765\n",
       "E    5343\n",
       "B    5250\n",
       "A    5100\n",
       "Name: product_code, dtype: int64"
      ]
     },
     "execution_count": 5,
     "metadata": {},
     "output_type": "execute_result"
    }
   ],
   "source": [
    "df_train['product_code'].value_counts()"
   ]
  },
  {
   "cell_type": "code",
   "execution_count": 4,
   "id": "3e8c2ed2",
   "metadata": {},
   "outputs": [
    {
     "data": {
      "text/plain": [
       "D    5112\n",
       "Name: product_code, dtype: int64"
      ]
     },
     "execution_count": 4,
     "metadata": {},
     "output_type": "execute_result"
    }
   ],
   "source": [
    "df_test['product_code'].value_counts()"
   ]
  },
  {
   "cell_type": "code",
   "execution_count": 6,
   "id": "54ab3b70",
   "metadata": {},
   "outputs": [],
   "source": [
    "# 방법 2: groupby ~ fit_transform\n",
    "from sklearn.experimental import enable_iterative_imputer\n",
    "from sklearn.linear_model import LinearRegression\n",
    "from sklearn.impute import IterativeImputer# , random_state=123\n",
    "\n",
    "X_imp = ['measurement_{}'.format(i) for i in range(3, 10)] + ['measurement_17']\n",
    "imp = IterativeImputer(\n",
    "    estimator = LinearRegression(fit_intercept=True),\n",
    "    random_state=123\n",
    ")\n",
    "df_train[X_imp] = df_train.groupby('product_code')[X_imp].apply(\n",
    "    lambda x: pd.DataFrame(imp.fit_transform(x), index=x.index, columns=X_imp)\n",
    ")"
   ]
  },
  {
   "cell_type": "code",
   "execution_count": 7,
   "id": "9dfbe8b8",
   "metadata": {},
   "outputs": [],
   "source": [
    "X_imp = ['measurement_{}'.format(i) for i in range(3, 10)] + ['measurement_17']\n",
    "imp = IterativeImputer(\n",
    "    estimator = LinearRegression(fit_intercept=True),\n",
    "    random_state=123\n",
    ")\n",
    "df_test[X_imp] = df_test.groupby('product_code')[X_imp].apply(\n",
    "    lambda x: pd.DataFrame(imp.fit_transform(x), index=x.index, columns=X_imp)\n",
    ")"
   ]
  },
  {
   "cell_type": "code",
   "execution_count": 8,
   "id": "8f68198e",
   "metadata": {},
   "outputs": [],
   "source": [
    "X_mean = ['measurement_{}'.format(i) for i in range(10, 17)]\n",
    "df_train[X_mean] = df_train.groupby('product_code')[X_mean].apply(\n",
    "    lambda x: x.fillna(x.mean())\n",
    ").reset_index(level=0, drop=True)\n",
    "\n",
    "X_mean = ['measurement_{}'.format(i) for i in range(10, 17)]\n",
    "df_test[X_mean] = df_test.groupby('product_code')[X_mean].apply(\n",
    "    lambda x: x.fillna(x.mean())\n",
    ").reset_index(level=0, drop=True)"
   ]
  },
  {
   "cell_type": "code",
   "execution_count": 11,
   "id": "6748add0",
   "metadata": {},
   "outputs": [],
   "source": [
    "m = pd.concat([df_train['loading'], df_test['loading']]).mean()\n",
    "df_train['loading'] = df_train['loading'].fillna(m)\n",
    "df_test['loading'] = df_test['loading'].fillna(m)"
   ]
  },
  {
   "cell_type": "code",
   "execution_count": 12,
   "id": "eaa890c9",
   "metadata": {},
   "outputs": [
    {
     "data": {
      "text/plain": [
       "Series([], dtype: int64)"
      ]
     },
     "execution_count": 12,
     "metadata": {},
     "output_type": "execute_result"
    }
   ],
   "source": [
    "df_train.isna().sum().pipe(\n",
    "    lambda x: x.loc[x > 0]\n",
    ")"
   ]
  },
  {
   "cell_type": "markdown",
   "id": "79dc27c5",
   "metadata": {},
   "source": [
    "- na_1, na_2로 파생 변수를 만들기\n",
    "\n",
    "- attribute_0, attribute_1의 결합값이 failure와 연관성 없다.\n",
    "\n",
    "- LR,solver='lbfgs'  ['loading', 'measurement_1', 'measurement_4', 'measurement_14', 'measurement_17', 'na_1'] 0.5838326230092876\n",
    "\n",
    "- LinearDiscriminantAnalysis: transform / predict measurement_0 ~ 17 \n",
    "\n",
    "- LR, solver ='lbfgs', n_components=7, 0.581757510516433\n",
    "\n",
    "- RandomForestClassifier {'max_depth': 7, 'min_samples_split': 512, 'n_estimators': 15}, random_state=123 0.5687712018291998\n",
    "\n",
    "- loading -> loading_log"
   ]
  },
  {
   "cell_type": "code",
   "execution_count": 13,
   "id": "a286734e",
   "metadata": {},
   "outputs": [],
   "source": [
    "df_train['loading_log'] = np.log(df_train['loading'])\n",
    "df_test['loading_log'] = np.log(df_test['loading'])"
   ]
  },
  {
   "cell_type": "code",
   "execution_count": 18,
   "id": "75ef22ae",
   "metadata": {},
   "outputs": [
    {
     "data": {
      "text/plain": [
       "array(['product_code', 'loading', 'attribute_0', 'attribute_1',\n",
       "       'attribute_2', 'attribute_3', 'measurement_0', 'measurement_1',\n",
       "       'measurement_2', 'measurement_3', 'measurement_4', 'measurement_5',\n",
       "       'measurement_6', 'measurement_7', 'measurement_8', 'measurement_9',\n",
       "       'measurement_10', 'measurement_11', 'measurement_12',\n",
       "       'measurement_13', 'measurement_14', 'measurement_15',\n",
       "       'measurement_16', 'measurement_17', 'na_1', 'na_2', 'loading_log'],\n",
       "      dtype='<U14')"
      ]
     },
     "execution_count": 18,
     "metadata": {},
     "output_type": "execute_result"
    }
   ],
   "source": [
    "X_all = df_test.columns.tolist()\n",
    "np.array(X_all)"
   ]
  },
  {
   "cell_type": "markdown",
   "id": "d9506232",
   "metadata": {},
   "source": [
    "# Step1: 검증 방법을 정하고"
   ]
  },
  {
   "cell_type": "code",
   "execution_count": 19,
   "id": "396cb003",
   "metadata": {},
   "outputs": [
    {
     "name": "stdout",
     "output_type": "stream",
     "text": [
      "['A' 'B' 'E'] ['C']\n",
      "['A' 'B' 'C'] ['E']\n",
      "['A' 'C' 'E'] ['B']\n",
      "['B' 'C' 'E'] ['A']\n"
     ]
    }
   ],
   "source": [
    "from sklearn.model_selection import GroupKFold\n",
    "\n",
    "gcv = GroupKFold(4)\n",
    "for train_idx, valid_idx in gcv.split(df_train[X_all], df_train['failure'], groups=df_train['product_code']):\n",
    "    df_cv_train, df_valid = df_train.iloc[train_idx], df_train.iloc[valid_idx]\n",
    "    print(df_cv_train['product_code'].unique(), df_valid['product_code'].unique())"
   ]
  },
  {
   "cell_type": "code",
   "execution_count": 25,
   "id": "0d5e6424",
   "metadata": {},
   "outputs": [
    {
     "data": {
      "text/plain": [
       "{'fit_time': array([0.04114151, 0.02462268, 0.04014039, 0.02982831]),\n",
       " 'score_time': array([0.00506544, 0.00512266, 0.        , 0.01019859]),\n",
       " 'test_score': array([0.58821746, 0.58491734, 0.58894014, 0.59540058]),\n",
       " 'train_score': array([0.59262252, 0.59350804, 0.59192438, 0.58956303])}"
      ]
     },
     "execution_count": 25,
     "metadata": {},
     "output_type": "execute_result"
    }
   ],
   "source": [
    "from sklearn.compose import ColumnTransformer\n",
    "from sklearn.preprocessing import StandardScaler\n",
    "from sklearn.pipeline import make_pipeline\n",
    "from sklearn.linear_model import LogisticRegression\n",
    "from sklearn.model_selection import cross_validate\n",
    "ct = ColumnTransformer([\n",
    "    ('std', StandardScaler(), ['loading', 'measurement_1', 'measurement_4', 'measurement_14', 'measurement_17'] ),\n",
    "    ('pt', 'passthrough', ['na_1'])\n",
    "])\n",
    "clf_lr = make_pipeline(ct, LogisticRegression(solver='lbfgs'))\n",
    "cross_validate(\n",
    "    clf_lr, df_train[X_all], df_train['failure'], scoring='roc_auc', cv=gcv, groups = df_train['product_code'],\n",
    "    return_train_score=True\n",
    ")"
   ]
  },
  {
   "cell_type": "code",
   "execution_count": null,
   "id": "f4b6717e",
   "metadata": {},
   "outputs": [],
   "source": []
  }
 ],
 "metadata": {
  "kernelspec": {
   "display_name": "Python 3 (ipykernel)",
   "language": "python",
   "name": "python3"
  },
  "language_info": {
   "codemirror_mode": {
    "name": "ipython",
    "version": 3
   },
   "file_extension": ".py",
   "mimetype": "text/x-python",
   "name": "python",
   "nbconvert_exporter": "python",
   "pygments_lexer": "ipython3",
   "version": "3.7.4"
  }
 },
 "nbformat": 4,
 "nbformat_minor": 5
}
