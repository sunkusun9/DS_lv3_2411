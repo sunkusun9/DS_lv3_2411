{
 "cells": [
  {
   "cell_type": "markdown",
   "id": "0aa73290",
   "metadata": {},
   "source": [
    "## 문제 6\n",
    "\n",
    "**Kaggle 형** train_prob.csv로 문제 target을 예측하는 모델을 만들고, \n",
    "\n",
    "test_prob.csv에 대한 target 예측하여 다음과 같은 형식의 answer6.csv를 만들어라.\n",
    "\n",
    "id, target\n",
    "\n",
    "0, 6.9\n",
    "\n",
    "5, 7.8\n",
    "\n",
    "...\n",
    "\n",
    "\n",
    "**평가지표**\n",
    "\n",
    "$RMSE(Y, \\hat{Y}) = \\sqrt{\\frac{1}{n}\\sum^{n}_{i=1}(y_i-\\hat{y_i})^2}$\n",
    "\n",
    "**강사: 멀티캠퍼스 강선구(sunku0316.kang@multicampus.com, sun9sun9@gmail.com)**"
   ]
  },
  {
   "cell_type": "code",
   "execution_count": null,
   "id": "c8af540a",
   "metadata": {},
   "outputs": [],
   "source": [
    "# 실행 환경 확인\n",
    "\n",
    "import pandas as pd\n",
    "import numpy as np\n",
    "import sklearn\n",
    "import scipy\n",
    "import statsmodels\n",
    "import mlxtend\n",
    "import sys\n",
    "import xgboost as xgb\n",
    "\n",
    "print(sys.version)\n",
    "for i in [pd, np, sklearn, scipy, mlxtend, statsmodels, xgb]:\n",
    "    print(i.__name__, i.__version__)"
   ]
  },
  {
   "cell_type": "code",
   "execution_count": null,
   "id": "6b3790bb",
   "metadata": {},
   "outputs": [],
   "source": [
    "df_train = pd.read_csv('train_prob.csv', index_col='id')\n",
    "df_test = pd.read_csv('test_prob.csv', index_col='id')\n",
    "df_ans = pd.read_csv('test_prob_ans.csv', index_col='id')"
   ]
  },
  {
   "cell_type": "code",
   "execution_count": null,
   "id": "aa4e351c",
   "metadata": {},
   "outputs": [],
   "source": [
    "# 처리 과정에 필요하 내용들을 list 형태로 구성합니다.\n",
    "repl_list = [\n",
    "    ('cat3', {'B': 'C'}, [83634, 147361, 9005]),\n",
    "    ('cat4', {'A': 'B', 'D': 'B'}, [239397, 603]),\n",
    "    ('cat6', {'D': 'A', 'E': 'B', 'G': 'C', 'H': 'B', 'I': 'A'}, [234203, 5145, 652]),\n",
    "    ('cat7', {'A': 'B', 'C': 'B', 'F': 'D', 'I': 'B'}, [4606, 19784, 214027, 1583]),\n",
    "    ('cat8', {'B': 'G', 'F': 'E'}, [30338, 96743, 2953, 76085, 33881]),\n",
    "    ('cat9', {'C': 'H', 'D': 'B', 'E': 'L'}, [10678, 2846, 85944, 8320, 19987, 40070, 5501, 16743, 33793, 7819, 3331, 4968])\n",
    "]\n",
    "# 반복문 처리 내용들을 수행합니다.\n",
    "for v, d, cnts in repl_list:\n",
    "    print(v, d, cnts)\n",
    "    # 치환후 내용을 s_repl에 저장합니다\n",
    "    s_repl = df_train[v].replace(d)\n",
    "    # 치환결과를 확인합니다.\n",
    "    if (s_repl.nunique() != len(cnts)) or ((s_repl.value_counts().sort_index() != cnts).any()):\n",
    "        print(s_repl.value_counts())\n",
    "        break\n",
    "    df_train[v] = s_repl\n",
    "    if v != 'cat9': # test에 cat9가 train에 등장하지 않는 케이스를 만듭니다.\n",
    "        df_test[v] = df_test[v].replace(d)\n",
    "    \n",
    "cat_cols = ['cat{}'.format(i) for i in range(10)]\n",
    "cont_cols = ['cont{}'.format(i) for i in range(14)]"
   ]
  },
  {
   "cell_type": "code",
   "execution_count": null,
   "id": "d062adc1",
   "metadata": {},
   "outputs": [],
   "source": [
    "from sklearn.model_selection import cross_val_predict\n",
    "from sklearn.preprocessing import OneHotEncoder\n",
    "from sklearn.pipeline import make_pipeline\n",
    "from sklearn.compose import ColumnTransformer\n",
    "from scipy.stats import norm\n",
    "\n",
    "import os\n",
    "\n",
    "X_all = df_test.columns.tolist()\n",
    "df_train['targetA'] = df_train['target'] <= 7.45\n",
    "\n",
    "# 시간이 오래걸리므로 저장해두고, 저장 결과가 없을 시 실행합니다.\n",
    "# 실제 시험을 고려한 루틴이기 보다는, 이 노트를 리뷰할 때 좀 더 시간을 절약할 수 있게 고안된 것입니다.\n",
    "# 처리과정을 재 실행하려면 생성된  targetA_train.csv를 삭제해야 합니다.\n",
    "if not os.path.isfile('targetA_train.csv'):\n",
    "    # 문제 3에서 targetA에 대한 예측 모델을 사용합니다,\n",
    "    df_train_clf = df_train.assign(\n",
    "        prob_A = 1 - norm.cdf(df_train['target'], loc=6.769, scale=0.616),\n",
    "        prob_B = norm.cdf(df_train['target'], loc=8.123, scale=0.527)\n",
    "    ).query('prob_B < 0.01 or prob_A < 0.01').copy()\n",
    "    \n",
    "    clf_xgb = make_pipeline( \n",
    "        ColumnTransformer([\n",
    "            ('ohe', OneHotEncoder(handle_unknown='ignore'), cat_cols),\n",
    "            ('pt', 'passthrough', cont_cols)\n",
    "        ]),\n",
    "        xgb.XGBClassifier(\n",
    "            max_depth = 2, # 트리의 최대 깊이 2\n",
    "            reg_alpha = 0.1, # L1 규제 0.1\n",
    "            reg_lambda = 0.1, # L2 규제 0.1\n",
    "            colsample_bytree=0.25, # 트리 당 컬럼 샘플링 비율 0.25\n",
    "            n_estimators=500, # 트리의 수 500\n",
    "            random_state=123, # random_state 123\n",
    "        )\n",
    "    )\n",
    "    \n",
    "    clf_xgb.fit(df_train_clf[X_all], df_train_clf['targetA'])\n",
    "    df_targetA_train = pd.DataFrame({'targetA_prob': clf_xgb.predict_proba(df_train[X_all])[:, 1]}, index=df_train.index)\n",
    "    # 여기까지 처리를 통해서도 어느 정도 효과를 얻을 수 있습니다.\n",
    "    \n",
    "    # 두 개의 라인의 처리로 더욱 효과적인 속성이 됩니다.\n",
    "    # cross_val_predict로 쉽게 할 수 있습니다. 교차 검증시 겹외셋에 대한 예측을 결과를 반환합니다.\n",
    "    # train셋에 대한 예측 분포가 아닌 train을 제외한 예측에 대한 분포를 지니도록 합니다.\n",
    "    targetA_prob_cv = cross_val_predict(clf_xgb, df_train_clf[X_all], df_train_clf['targetA'], cv=5, method='predict_proba')\n",
    "    # df_train_clf에 있는 해당하는 예측은 교차검증의 예측값으로 대체합니다.\n",
    "    # 이 처리를 했을 때와 안 했을 때의 결과 차이를 확인해보시고면, 그 차이를 체감하실 수 있습니다.\n",
    "    df_targetA_train.loc[df_targetA_train.index.isin(df_train_clf.index), 'targetA_prob'] = targetA_prob_cv[:, 1]\n",
    "    \n",
    "    df_targetA_train.to_csv('targetA_train.csv')\n",
    "    df_targetA_test = pd.DataFrame({'targetA_prob': clf_xgb.predict_proba(df_test[X_all])[:, 1]}, index=df_test.index)\n",
    "    df_targetA_test.to_csv('targetA_test.csv')\n",
    "else:\n",
    "    # 저장된 결과를 불러옵니다.\n",
    "    df_targetA_train = pd.read_csv('targetA_train.csv', index_col='id')\n",
    "    df_targetA_test = pd.read_csv('targetA_test.csv', index_col='id')"
   ]
  },
  {
   "cell_type": "code",
   "execution_count": null,
   "id": "32fdc202",
   "metadata": {},
   "outputs": [],
   "source": [
    "df_train['targetA_prob'] = df_targetA_train['targetA_prob']\n",
    "df_test['targetA_prob'] = df_targetA_test['targetA_prob']"
   ]
  },
  {
   "cell_type": "code",
   "execution_count": null,
   "id": "441a6987",
   "metadata": {},
   "outputs": [],
   "source": [
    "q = [i for i in np.arange(0, 1.01, 0.01)]\n",
    "# 나머지 변수에 대해서도 해당 파생 변수를 만들어 줍니다.\n",
    "for i in cont_cols:\n",
    "    q_val = df_train[i].quantile(q)\n",
    "    q_val.iloc[[0, -1]] = [-np.inf, np.inf]\n",
    "    q_cut = pd.cut(df_train[i], bins=q_val)\n",
    "    q_mean = df_train.groupby(q_cut)['target'].mean()\n",
    "    df_train[i + '_q'] = q_cut.map(q_mean).astype('float')\n",
    "    df_test[i + '_q'] = pd.cut(df_test[i], bins=q_val).map(q_mean).astype('float')"
   ]
  },
  {
   "cell_type": "code",
   "execution_count": null,
   "id": "7c5737d0",
   "metadata": {},
   "outputs": [],
   "source": [
    "s_hist = []"
   ]
  },
  {
   "cell_type": "code",
   "execution_count": null,
   "id": "9fc3911c",
   "metadata": {},
   "outputs": [],
   "source": [
    "# 공통\n",
    "from sklearn.pipeline import make_pipeline\n",
    "from sklearn.compose import ColumnTransformer\n",
    "from sklearn.preprocessing import OneHotEncoder, StandardScaler\n",
    "from sklearn.metrics import accuracy_score, mean_squared_error\n",
    "from sklearn.metrics import make_scorer\n",
    "from sklearn.model_selection import ShuffleSplit, KFold\n",
    "\n",
    "cv = KFold(n_splits=5, random_state=123)\n",
    "# train(80%)/test(20%) 한 번으로 검증합니다. XGB, RF등 오래 걸리는 모델을 위해 사용합니다.\n",
    "ss = ShuffleSplit(n_splits=1, train_size=0.8, random_state=123)\n",
    "\n",
    "df_ans = pd.read_csv('test_prob_ans.csv', index_col='id')\n",
    "X_all = df_test.columns.tolist()  + ['targetA_prob']\n",
    "\n",
    "cat_cols = ['cat{}'.format(i) for i in range(10)]\n",
    "cont_cols = ['cont{}'.format(i) for i in range(14)]\n",
    "cont_q_cols = ['cont{}_q'.format(i) for i in range(14)]\n",
    "\n",
    "# 위에서 발생한 leak을 바로 잡아 교차검증을 합니다.\n",
    "q = [i for i in np.arange(0, 1.01, 0.01)]\n",
    "def eval_model(model_name, model, sp):\n",
    "    score_train, score_valid = list(), list()\n",
    "    for train_idx, valid_idx in sp.split(df_train):\n",
    "        df_cv_train, df_valid = df_train.iloc[train_idx].copy(), df_train.iloc[valid_idx].copy()\n",
    "        # 시험에서 구현하기 어려울 수 있으니, 시험 때는 leakage가 있어 성능에 측정에 왜곡이 있음을 고려하고 cross_validate를 \n",
    "        # 사용해서 구성을 해도 됩니다.\n",
    "        # 검증셋에서 train으로 파생변수를 만들고\n",
    "        # 검증셋의 test(겹외셋)에 검증셋의 train으로 만든 통계값(mean)을 반영합니다.\n",
    "        for i in cont_cols:\n",
    "            q_val =  df_cv_train[i].quantile(q)\n",
    "            q_val.iloc[[0, -1]] = [-np.inf, np.inf]\n",
    "            q_cut = pd.cut(df_cv_train[i], bins=q_val)\n",
    "            q_mean = df_cv_train.groupby(q_cut)['target'].mean()\n",
    "            df_cv_train[i + '_q'] = q_cut.map(q_mean).astype('float')\n",
    "            df_valid[i + '_q'] = pd.cut(df_valid[i], bins=q_val).map(q_mean).astype('float')\n",
    "        model.fit(df_cv_train[X_all], df_cv_train['target'])\n",
    "        score_valid.append((mean_squared_error(df_valid['target'], model.predict(df_valid[X_all]))) ** 0.5)\n",
    "        score_train.append((mean_squared_error(df_cv_train['target'], model.predict(df_cv_train[X_all]))) ** 0.5)\n",
    "        \n",
    "    output = 'Valid: {:.5f}±{:.5f},  V.Train: {:.5f}±{:.5f}'.format( \n",
    "            np.mean(score_valid), np.std(score_valid),\n",
    "            np.mean(score_train), np.std(score_train),\n",
    "        )\n",
    "    print(output)\n",
    "    s_hist.append(pd.Series([model_name, output, np.mean(score_valid)], index=['model name', 'result', 'score']))\n",
    "    df_result = pd.DataFrame(s_hist)\n",
    "    display(df_result.groupby('model name').last())\n",
    "    display(df_result.loc[df_result['score'].idxmin()])\n",
    "\n",
    "def select_model(model):\n",
    "    model.fit(df_train[X_all], df_train['target'])\n",
    "    prd = model.predict(df_test[X_all])\n",
    "    pd.DataFrame({\n",
    "        'id': df_test.index.values,\n",
    "        'target': prd\n",
    "    }).to_csv('answer6.csv', index = None)\n",
    "    return prd "
   ]
  },
  {
   "cell_type": "code",
   "execution_count": null,
   "id": "5c265043",
   "metadata": {},
   "outputs": [],
   "source": [
    "from sklearn.linear_model import LinearRegression\n",
    "# handle_unknown='ignore': 등장하지 않는 범주값은 아무처리 없이 사용합니다. 해당 케이스에서는 가변수는 모두 0이 됩니다.\n",
    "# handle_unknown='ignore' 과 drop=파라메터 설정은 동시에 되지 않습니다. (에러 발생)\n",
    "# drop=을 통해 하나의 가변수를 제외하지 않으면 선형 모델 입력에 완전한 다중공선성이 생깁니다.\n",
    "ct = ColumnTransformer([\n",
    "    ('ohe', OneHotEncoder(handle_unknown='first'), cat_cols),\n",
    "    ('std', StandardScaler(), cont_cols)\n",
    "])\n",
    "\n",
    "reg_lr = make_pipeline(ct, LinearRegression())\n",
    "eval_model('baseline', reg_lr, cv)"
   ]
  },
  {
   "cell_type": "code",
   "execution_count": null,
   "id": "2af98237",
   "metadata": {},
   "outputs": [],
   "source": [
    "prd = select_model(reg_lr)\n",
    "print(\"baseline 채점 결과:\",  mean_squared_error(df_ans['target'], prd) ** 0.5)"
   ]
  },
  {
   "cell_type": "code",
   "execution_count": null,
   "id": "13338191",
   "metadata": {},
   "outputs": [],
   "source": [
    "# 모델의 상태를 봅니다. TODO-with\n"
   ]
  },
  {
   "cell_type": "code",
   "execution_count": null,
   "id": "6e65dfce",
   "metadata": {},
   "outputs": [],
   "source": [
    "# 원인을 탐색합니다. TODO-with\n"
   ]
  },
  {
   "cell_type": "code",
   "execution_count": null,
   "id": "673862f8",
   "metadata": {},
   "outputs": [],
   "source": [
    "# 등장하지 않는 범주를 train에 등장하는 케이스로 바꿉니다.\n",
    "\n",
    "# 최빈값을 구해 대체에 사용합니다. TODO-with\n",
    "\n",
    "# 최빈값으로 대체합니다. TODO-with\n"
   ]
  },
  {
   "cell_type": "code",
   "execution_count": null,
   "id": "e86bdc81",
   "metadata": {},
   "outputs": [],
   "source": [
    "from sklearn.linear_model import LinearRegression\n",
    "\n",
    "# Baseline 모델을 만들어 봅니다.\n",
    "# handle_unknown을 ignore로 하여 등장하지 않은 수준에 대해 에러가 발생하지 않도록 합니다.\n",
    "# 이 경우 해당 변수의 가변수 모든 값은 0이 됩니다.\n",
    "# handle_unknown = 'ignore'와 drop='first'를 동시에 설정할 수 없습니다.\n",
    "# drop='first'를 생략하면 어떤 문제가 발생하는지 확인하기 위해 drop='first'를 제외합니다.\n",
    "ct = ColumnTransformer([\n",
    "    ('ohe', OneHotEncoder(drop='first'), cat_cols),\n",
    "    ('std', StandardScaler(), cont_cols)\n",
    "])\n",
    "\n",
    "reg_lr = make_pipeline(ct, LinearRegression())\n",
    "eval_model('baseline', reg_lr, cv)"
   ]
  },
  {
   "cell_type": "code",
   "execution_count": null,
   "id": "5e8ee5ee",
   "metadata": {},
   "outputs": [],
   "source": [
    "# 모델의 상태를 봅니다.\n",
    "# 지나치게 회귀 계수가 커졌던 문제가 해결 됩니다.\n",
    "reg_lr = make_pipeline(ct, LinearRegression())\n",
    "reg_lr.fit(df_train[X_all], df_train['target'])\n",
    "reg_lr[1].coef_"
   ]
  },
  {
   "cell_type": "code",
   "execution_count": null,
   "id": "5a7753ae",
   "metadata": {},
   "outputs": [],
   "source": [
    "prd = select_model(reg_lr)\n",
    "print(\"baseline 채점 결과:\",  mean_squared_error(df_ans['target'], prd) ** 0.5)"
   ]
  },
  {
   "cell_type": "code",
   "execution_count": null,
   "id": "74238285",
   "metadata": {},
   "outputs": [],
   "source": []
  }
 ],
 "metadata": {
  "kernelspec": {
   "display_name": "Python 3 (ipykernel)",
   "language": "python",
   "name": "python3"
  },
  "language_info": {
   "codemirror_mode": {
    "name": "ipython",
    "version": 3
   },
   "file_extension": ".py",
   "mimetype": "text/x-python",
   "name": "python",
   "nbconvert_exporter": "python",
   "pygments_lexer": "ipython3",
   "version": "3.7.4"
  }
 },
 "nbformat": 4,
 "nbformat_minor": 5
}
